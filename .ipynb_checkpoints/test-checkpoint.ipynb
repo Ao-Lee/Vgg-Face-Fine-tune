{
 "cells": [
  {
   "cell_type": "code",
   "execution_count": 1,
   "metadata": {
    "collapsed": false
   },
   "outputs": [
    {
     "name": "stderr",
     "output_type": "stream",
     "text": [
      "D:\\Program Files\\Anaconda3\\lib\\site-packages\\h5py\\__init__.py:36: FutureWarning: Conversion of the second argument of issubdtype from `float` to `np.floating` is deprecated. In future, it will be treated as `np.float64 == np.dtype(float).type`.\n",
      "  from ._conv import register_converters as _register_converters\n",
      "Using TensorFlow backend.\n"
     ]
    }
   ],
   "source": [
    "from keras import backend as K\n",
    "from keras.models import Model\n",
    "from keras.optimizers import Adam\n",
    "from keras.layers import Input, Lambda\n",
    "from keras.callbacks import ModelCheckpoint, EarlyStopping\n",
    "from sklearn.preprocessing import normalize\n",
    "from tqdm import tqdm\n",
    "import numpy as np\n",
    "\n",
    "from vggface import VggFace, preprocess_input\n",
    "import cfg\n",
    "from data import LFWReader, TripletGenerator\n",
    "from data import LFWSet, DataLoader"
   ]
  },
  {
   "cell_type": "code",
   "execution_count": 30,
   "metadata": {
    "collapsed": true
   },
   "outputs": [],
   "source": [
    "def triplet_loss(inputs, dist='sqeuclidean', margin='maxplus'):\n",
    "    anchor, positive, negative = inputs\n",
    "    positive_distance = K.square(anchor - positive)\n",
    "    negative_distance = K.square(anchor - negative)\n",
    "    if dist == 'euclidean':\n",
    "        positive_distance = K.sqrt(K.sum(positive_distance, axis=-1, keepdims=True))\n",
    "        negative_distance = K.sqrt(K.sum(negative_distance, axis=-1, keepdims=True))\n",
    "    elif dist == 'sqeuclidean':\n",
    "        positive_distance = K.sum(positive_distance, axis=-1, keepdims=True)\n",
    "        negative_distance = K.sum(negative_distance, axis=-1, keepdims=True)\n",
    "    loss = positive_distance - negative_distance\n",
    "    if margin == 'maxplus':\n",
    "        loss = K.maximum(0.0, 1 + loss)\n",
    "    elif margin == 'softplus':\n",
    "        loss = K.log(1 + K.exp(loss))\n",
    "    return K.mean(loss)\n",
    "\n",
    "def triplet_loss_np(inputs, dist='sqeuclidean', margin='maxplus'):\n",
    "    anchor, positive, negative = inputs\n",
    "    positive_distance = np.square(anchor - positive)\n",
    "    negative_distance = np.square(anchor - negative)\n",
    "    if dist == 'euclidean':\n",
    "        positive_distance = np.sqrt(np.sum(positive_distance, axis=-1, keepdims=True))\n",
    "        negative_distance = np.sqrt(np.sum(negative_distance, axis=-1, keepdims=True))\n",
    "    elif dist == 'sqeuclidean':\n",
    "        positive_distance = np.sum(positive_distance, axis=-1, keepdims=True)\n",
    "        negative_distance = np.sum(negative_distance, axis=-1, keepdims=True)\n",
    "    loss = positive_distance - negative_distance\n",
    "    if margin == 'maxplus':\n",
    "        loss = np.maximum(0.0, 1 + loss)\n",
    "    elif margin == 'softplus':\n",
    "        loss = np.log(1 + np.exp(loss))\n",
    "    return np.mean(loss)\n",
    "\n",
    "def check_loss():\n",
    "    batch_size = 10\n",
    "    shape = (batch_size, 4096)\n",
    "\n",
    "    p1 = normalize(np.random.random(shape))\n",
    "    n = normalize(np.random.random(shape))\n",
    "    p2 = normalize(np.random.random(shape))\n",
    "    \n",
    "    input_tensor = [K.variable(p1), K.variable(n), K.variable(p2)]\n",
    "    out1 = K.eval(triplet_loss(input_tensor))\n",
    "    input_np = [p1, n, p2]\n",
    "    out2 = triplet_loss_np(input_np)\n",
    "\n",
    "    assert out1.shape == out2.shape\n",
    "    print(np.linalg.norm(out1))\n",
    "    print(np.linalg.norm(out2))\n",
    "    print(np.linalg.norm(out1-out2))"
   ]
  },
  {
   "cell_type": "code",
   "execution_count": 31,
   "metadata": {
    "collapsed": false
   },
   "outputs": [
    {
     "name": "stdout",
     "output_type": "stream",
     "text": [
      "0.9943779\n",
      "0.9943779846959986\n",
      "7.360514775456295e-08\n"
     ]
    }
   ],
   "source": [
    "check_loss()"
   ]
  },
  {
   "cell_type": "code",
   "execution_count": 3,
   "metadata": {
    "collapsed": true
   },
   "outputs": [],
   "source": [
    "def GetModel():\n",
    "    base_model = VggFace(weights='face', include_top=False)\n",
    "    x = base_model.output\n",
    "    x = Lambda(lambda  x: K.l2_normalize(x,axis=1))(x)\n",
    "    embedding_model = Model(base_model.input, x, name=\"embedding\")\n",
    "\n",
    "    input_shape = (3, cfg.image_size, cfg.image_size)\n",
    "    anchor_input = Input(input_shape, name='anchor_input')\n",
    "    positive_input = Input(input_shape, name='positive_input')\n",
    "    negative_input = Input(input_shape, name='negative_input')\n",
    "    anchor_embedding = embedding_model(anchor_input)\n",
    "    positive_embedding = embedding_model(positive_input)\n",
    "    negative_embedding = embedding_model(negative_input)\n",
    "\n",
    "    inputs = [anchor_input, positive_input, negative_input]\n",
    "    outputs = [anchor_embedding, positive_embedding, negative_embedding]\n",
    "       \n",
    "    triplet_model = Model(inputs, outputs)\n",
    "    triplet_model.add_loss(K.mean(triplet_loss(outputs)))\n",
    "    return embedding_model, triplet_model"
   ]
  },
  {
   "cell_type": "code",
   "execution_count": 4,
   "metadata": {
    "collapsed": true
   },
   "outputs": [],
   "source": [
    "def DistanceEuclidean(X, Y):\n",
    "    diff = (normalize(X) - normalize(Y))\n",
    "    return (diff**2).sum(axis=1)"
   ]
  },
  {
   "cell_type": "code",
   "execution_count": 5,
   "metadata": {
    "collapsed": false
   },
   "outputs": [
    {
     "name": "stdout",
     "output_type": "stream",
     "text": [
      "WARNING:tensorflow:From D:\\Program Files\\Anaconda3\\lib\\site-packages\\keras\\backend\\tensorflow_backend.py:3148: calling l2_normalize (from tensorflow.python.ops.nn_impl) with dim is deprecated and will be removed in a future version.\n",
      "Instructions for updating:\n",
      "dim is deprecated, use axis instead\n"
     ]
    }
   ],
   "source": [
    "embedding_model, triplet_model = GetModel()"
   ]
  },
  {
   "cell_type": "code",
   "execution_count": 6,
   "metadata": {
    "collapsed": false
   },
   "outputs": [
    {
     "name": "stderr",
     "output_type": "stream",
     "text": [
      "100%|██████████████████████████████████████████| 63/63 [00:20<00:00,  3.04it/s]\n"
     ]
    },
    {
     "name": "stdout",
     "output_type": "stream",
     "text": [
      "0.69592935\n",
      "0.22787124\n"
     ]
    }
   ],
   "source": [
    "lfw = LFWSet(cfg.dir_pairs, cfg.dir_images)\n",
    "dl = DataLoader(lfw, batch_size=cfg.batch_size, shuffle=False)\n",
    "\n",
    "list_diff = []\n",
    "list_same = []\n",
    "\n",
    "for data, label in tqdm(dl):\n",
    "    img1 = preprocess_input(data['img1'])\n",
    "    img2 = preprocess_input(data['img2'])\n",
    "    embedding1 = embedding_model.predict(img1)\n",
    "    embedding2 = embedding_model.predict(img2)\n",
    "    distance = DistanceEuclidean(embedding1, embedding2)\n",
    "    \n",
    "    list_diff += list(distance[label==0])\n",
    "    list_same += list(distance[label==1])\n",
    "    \n",
    "distance_diff = np.average(np.array(list_diff))\n",
    "distance_same = np.average(np.array(list_same))\n",
    "print(distance_diff)\n",
    "print(distance_same)"
   ]
  },
  {
   "cell_type": "code",
   "execution_count": 41,
   "metadata": {
    "collapsed": false
   },
   "outputs": [
    {
     "name": "stderr",
     "output_type": "stream",
     "text": [
      "100%|██████████████████████████████████████████| 25/25 [00:12<00:00,  2.05it/s]\n"
     ]
    },
    {
     "name": "stdout",
     "output_type": "stream",
     "text": [
      "0.5583320707082748\n",
      "0.55833215\n"
     ]
    }
   ],
   "source": [
    "reader = LFWReader()\n",
    "gen_tr = TripletGenerator(reader)\n",
    "list_diff = []\n",
    "list_same = []\n",
    "list_loss = []\n",
    "for _ in tqdm(range(25)):\n",
    "    data = next(gen_tr)\n",
    "    imgs_anchor = data[0]['anchor_input'].reshape(cfg.batch_size,3,cfg.image_size,cfg.image_size)\n",
    "    imgs_pos = data[0]['positive_input'].reshape(cfg.batch_size,3,cfg.image_size,cfg.image_size)\n",
    "    imgs_neg = data[0]['negative_input'].reshape(cfg.batch_size,3,cfg.image_size,cfg.image_size)\n",
    "    \n",
    "    emb_anchor = embedding_model.predict(imgs_anchor)\n",
    "    emb_pos = embedding_model.predict(imgs_pos)\n",
    "    emb_neg = embedding_model.predict(imgs_neg)\n",
    "    \n",
    "    result = triplet_loss_np((emb_anchor,emb_pos, emb_neg))\n",
    "    list_same += list(DistanceEuclidean(emb_anchor,emb_pos))\n",
    "    list_diff += list(DistanceEuclidean(emb_anchor,emb_neg))\n",
    "    list_loss.append(triplet_loss_np((emb_anchor,emb_pos,emb_neg)))\n",
    "    \n",
    "distance_diff = np.average(np.array(list_diff))\n",
    "distance_same = np.average(np.array(list_same))\n",
    "loss = np.average(list_loss)\n",
    "\n",
    "print(max(0, 1 + distance_same - distance_diff))\n",
    "print(loss)"
   ]
  },
  {
   "cell_type": "code",
   "execution_count": null,
   "metadata": {
    "collapsed": true
   },
   "outputs": [],
   "source": []
  }
 ],
 "metadata": {
  "anaconda-cloud": {},
  "kernelspec": {
   "display_name": "Python [conda env:Anaconda3]",
   "language": "python",
   "name": "conda-env-Anaconda3-py"
  },
  "language_info": {
   "codemirror_mode": {
    "name": "ipython",
    "version": 3
   },
   "file_extension": ".py",
   "mimetype": "text/x-python",
   "name": "python",
   "nbconvert_exporter": "python",
   "pygments_lexer": "ipython3",
   "version": "3.5.4"
  }
 },
 "nbformat": 4,
 "nbformat_minor": 1
}
